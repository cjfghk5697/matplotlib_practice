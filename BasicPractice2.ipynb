{
  "nbformat": 4,
  "nbformat_minor": 0,
  "metadata": {
    "colab": {
      "name": "Untitled26.ipynb",
      "provenance": [],
      "collapsed_sections": [],
      "authorship_tag": "ABX9TyM+uoWO2NbeZKGBsFhnzmdZ",
      "include_colab_link": true
    },
    "kernelspec": {
      "name": "python3",
      "display_name": "Python 3"
    },
    "language_info": {
      "name": "python"
    }
  },
  "cells": [
    {
      "cell_type": "markdown",
      "metadata": {
        "id": "view-in-github",
        "colab_type": "text"
      },
      "source": [
        "<a href=\"https://colab.research.google.com/github/cjfghk5697/matplotlib_practice/blob/main/BasicPractice2.ipynb\" target=\"_parent\"><img src=\"https://colab.research.google.com/assets/colab-badge.svg\" alt=\"Open In Colab\"/></a>"
      ]
    },
    {
      "cell_type": "markdown",
      "metadata": {
        "id": "IeGTM-m792DR"
      },
      "source": [
        "<h1>Matplotlib 공부2</h1>\n",
        "\n",
        "선 그래프 그리기"
      ]
    },
    {
      "cell_type": "code",
      "metadata": {
        "colab": {
          "base_uri": "https://localhost:8080/",
          "height": 282
        },
        "id": "LqzJq_qu9v8w",
        "outputId": "1b3791f6-9b9c-4186-9656-9cd4cd64b342"
      },
      "source": [
        "import matplotlib.pyplot as plt\n",
        "import numpy as np\n",
        "\n",
        "x= np.arange(-9,10)\n",
        "y1=x**2\n",
        "plt.plot(\n",
        "    x,y1,\n",
        "    linestyle=\":\",\n",
        "    marker=\"o\",\n",
        "    markersize=8,\n",
        "    markerfacecolor=\"blue\",\n",
        "    markeredgecolor=\"red\"\n",
        ")\n",
        "plt.show()"
      ],
      "execution_count": 1,
      "outputs": [
        {
          "output_type": "execute_result",
          "data": {
            "text/plain": [
              "<function matplotlib.pyplot.show>"
            ]
          },
          "metadata": {
            "tags": []
          },
          "execution_count": 1
        },
        {
          "output_type": "display_data",
          "data": {
            "image/png": "[encoded data removed]",
            "text/plain": [
              "<Figure size 432x288 with 1 Axes>"
            ]
          },
          "metadata": {
            "tags": [],
            "needs_background": "light"
          }
        }
      ]
    },
    {
      "cell_type": "markdown",
      "metadata": {
        "id": "IXsVidfg91jb"
      },
      "source": [
        "2차 함수를 그려봤다. linestyle=\":\"는 점 스타일로, marker=\"o\" o로 표시한다는 것이다. markersize=8로 사이즈는 8이다. markerfacecolor=\"blue\" 마커 색깔을 결정한다. markeredgecolor=\"red\"는 마커 엣지 색깔을 결정한다. "
      ]
    },
    {
      "cell_type": "code",
      "metadata": {
        "colab": {
          "base_uri": "https://localhost:8080/",
          "height": 265
        },
        "id": "XPHETyNd-2l0",
        "outputId": "1b98bdb8-fd60-4381-92da-a78236e799bd"
      },
      "source": [
        "import matplotlib.pyplot as plt\n",
        "import numpy as np\n",
        "\n",
        "x=np.arange(-9,10)\n",
        "plt.bar(x,x**2)\n",
        "plt.show()"
      ],
      "execution_count": 2,
      "outputs": [
        {
          "output_type": "display_data",
          "data": {
            "image/png": "[encoded data removed]",
            "text/plain": [
              "<Figure size 432x288 with 1 Axes>"
            ]
          },
          "metadata": {
            "tags": [],
            "needs_background": "light"
          }
        }
      ]
    },
    {
      "cell_type": "markdown",
      "metadata": {
        "id": "XP6glJoY_AQd"
      },
      "source": [
        "막대그래프를 그렸다. -9~ 10까지이다."
      ]
    },
    {
      "cell_type": "code",
      "metadata": {
        "colab": {
          "base_uri": "https://localhost:8080/",
          "height": 265
        },
        "id": "zYThEHK7_Eg9",
        "outputId": "d121b6c2-1a43-4e7d-8f94-e3b0f721f0be"
      },
      "source": [
        "import matplotlib.pyplot as plt\n",
        "import numpy as np\n",
        "\n",
        "x=np.random.rand(10) #아래 막대\n",
        "y=np.random.rand(10) #중간 막대\n",
        "z=np.random.rand(10) #위 막대\n",
        "\n",
        "data=[x,y,z]\n",
        "x_array=np.arange(10)\n",
        "\n",
        "for i in range(0,3): #누적 막대의 종류가 3개\n",
        "  plt.bar(\n",
        "      x_array, #0부터 10까지의 x위치에서\n",
        "      data[i], #각 높이(10개)만큼 쌓음\n",
        "      bottom=np.sum(data[:i],axis=0)\n",
        "  )\n",
        "plt.show()"
      ],
      "execution_count": 3,
      "outputs": [
        {
          "output_type": "display_data",
          "data": {
            "image/png": "[encoded data removed]",
            "text/plain": [
              "<Figure size 432x288 with 1 Axes>"
            ]
          },
          "metadata": {
            "tags": [],
            "needs_background": "light"
          }
        }
      ]
    },
    {
      "cell_type": "markdown",
      "metadata": {
        "id": "Dab7Gak4_u_0"
      },
      "source": [
        "dacon 대회에서 정말 따라해보고싶던 그래프다. 누적 막대 그래프 그리기이다. x, y, z에 무작위 값 10개를 준다. 값은 아래, 중간, 위 막대를 차지 할 것이다. data[i] 만큼 쌓는다. bottom은 데이터 값들을 더해서 bottom값을 설정한다. 이 덕에 누적 막대 그래프가 가능한 것이다."
      ]
    },
    {
      "cell_type": "code",
      "metadata": {
        "colab": {
          "base_uri": "https://localhost:8080/",
          "height": 265
        },
        "id": "-LqDR4WBALXx",
        "outputId": "593dd0f4-6414-4326-c663-995d6433468b"
      },
      "source": [
        "import matplotlib.pyplot as plt\n",
        "import numpy as np\n",
        "\n",
        "x= np.random.rand(10)\n",
        "y= np.random.rand(10)\n",
        "\n",
        "colors=np.random.randint(0,100,10)\n",
        "sizes=np.pi*1000*np.random.rand(10)\n",
        "plt.scatter(x,y,c=colors, s=sizes, alpha=0.7)\n",
        "plt.show()"
      ],
      "execution_count": 5,
      "outputs": [
        {
          "output_type": "display_data",
          "data": {
            "image/png": "[encoded data removed]",
            "text/plain": [
              "<Figure size 432x288 with 1 Axes>"
            ]
          },
          "metadata": {
            "tags": [],
            "needs_background": "light"
          }
        }
      ]
    },
    {
      "cell_type": "markdown",
      "metadata": {
        "id": "3TagUqUYAlDK"
      },
      "source": [
        "size 원 크기 만큼 스캐터 그래프를 만들었다. 색깔은 무작위 추출이다."
      ]
    }
  ]
}